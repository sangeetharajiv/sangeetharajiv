{
 "cells": [
  {
   "cell_type": "markdown",
   "id": "dc6bc797-354a-4f14-9861-3cda03d74a3d",
   "metadata": {},
   "source": []
  },
  {
   "cell_type": "markdown",
   "id": "01660194-c796-4297-92bd-4881b544b4d1",
   "metadata": {},
   "source": [
    "<h1>Data Science Tools and Ecosystem<h1>"
   ]
  },
  {
   "cell_type": "markdown",
   "id": "af382423-1125-4bcc-8e66-60a135fcfb14",
   "metadata": {},
   "source": [
    "<h5>In this notebook, Data Science Tools and Ecosystem are summarized<h5>"
   ]
  },
  {
   "cell_type": "markdown",
   "id": "40fbec21-21eb-497e-bd74-7f52241ce9c5",
   "metadata": {},
   "source": [
    "Some of the popular languages that Data Scientists use are:\n",
    "<ul>\n",
    "<li>Python</li>\n",
    "<li>R</li>\n",
    "<li>SQL</li>\n",
    "</ul>"
   ]
  },
  {
   "cell_type": "markdown",
   "id": "c4efea57-c2a9-4c93-ad72-f6764e6f4123",
   "metadata": {},
   "source": [
    "Some of the commonly used libraries used by Data Scientists include:\n",
    "<ul>\n",
    "<li>Numpy</li>\n",
    "<li>pytorch</li>\n",
    "<li>tensorflow</li>\n",
    "</ul>"
   ]
  },
  {
   "cell_type": "markdown",
   "id": "55d4cda2-1888-4cc3-8956-3399e47af055",
   "metadata": {},
   "source": [
    "```markdown\n",
    "| Data Science Tools      |\n",
    "|-------------------------|\n",
    "| Jupyter Notebooks       |\n",
    "| RStudio                 |\n",
    "| Apache Zeppelin         |\n",
    "```"
   ]
  },
  {
   "cell_type": "markdown",
   "id": "f3c344e2-39d4-4709-9454-1d0db940a10a",
   "metadata": {},
   "source": [
    "<h3>Below are a few examples of evaluating arithmetic expressions in Python.<h3>\n",
    "\n"
   ]
  },
  {
   "cell_type": "code",
   "execution_count": 6,
   "id": "827dc0fb-ee47-46b0-93bc-a4f79bb1c42f",
   "metadata": {},
   "outputs": [
    {
     "data": {
      "text/plain": [
       "17"
      ]
     },
     "execution_count": 6,
     "metadata": {},
     "output_type": "execute_result"
    }
   ],
   "source": [
    "(3*4)+5"
   ]
  },
  {
   "cell_type": "code",
   "execution_count": 7,
   "id": "f5a157e7-cc56-409d-8b48-b3ffbf15e287",
   "metadata": {},
   "outputs": [
    {
     "data": {
      "text/plain": [
       "17"
      ]
     },
     "execution_count": 7,
     "metadata": {},
     "output_type": "execute_result"
    }
   ],
   "source": [
    "# This is a simple arithmetic expression to multiply then add integers.\n",
    "(3*4)+5"
   ]
  },
  {
   "cell_type": "code",
   "execution_count": 13,
   "id": "bdf507b4-a711-44bf-9cfa-b168119af416",
   "metadata": {},
   "outputs": [],
   "source": [
    "# This expression converts 200 minutes into hours.\n",
    "hours = 200/60"
   ]
  },
  {
   "cell_type": "markdown",
   "id": "d1224dbe-e7fc-4095-985a-c7ed294651ca",
   "metadata": {},
   "source": [
    "```markdown\n",
    "**Objectives:**\n",
    "\n",
    "- List popular languages for Data Science.\n",
    "- Describe the function of Jupyter Kernels.\n",
    "- Explain how to execute code in a Jupyter Notebook.\n",
    "- Identify tools used in Data Science.\n",
    "- Understand the importance of libraries and packages.\n",
    "```"
   ]
  },
  {
   "cell_type": "markdown",
   "id": "9d087dca-9376-4566-a56c-faee50abc653",
   "metadata": {},
   "source": [
    "```markdown\n",
    "## Author\n",
    "\n",
    "Sangeetha Devaraj\n",
    "```"
   ]
  },
  {
   "cell_type": "code",
   "execution_count": null,
   "id": "b07aa870-8863-401b-93d7-e9d375499da8",
   "metadata": {},
   "outputs": [],
   "source": []
  }
 ],
 "metadata": {
  "kernelspec": {
   "display_name": "Python 3 (ipykernel)",
   "language": "python",
   "name": "python3"
  },
  "language_info": {
   "codemirror_mode": {
    "name": "ipython",
    "version": 3
   },
   "file_extension": ".py",
   "mimetype": "text/x-python",
   "name": "python",
   "nbconvert_exporter": "python",
   "pygments_lexer": "ipython3",
   "version": "3.12.8"
  }
 },
 "nbformat": 4,
 "nbformat_minor": 5
}
